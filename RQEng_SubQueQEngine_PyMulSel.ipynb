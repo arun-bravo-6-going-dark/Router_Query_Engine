{
 "cells": [
  {
   "cell_type": "markdown",
   "metadata": {},
   "source": [
    "# Router Query Engine with Sub-Question Query Engine and Pydantic MultiSelector"
   ]
  },
  {
   "cell_type": "markdown",
   "metadata": {},
   "source": [
    "A custom router query engine capable of directing queries towards either a SQL database and/or vector database. It has the flexibility to choose the appropriate destination based on the specific requirements of the query"
   ]
  },
  {
   "cell_type": "code",
   "execution_count": 1,
   "metadata": {},
   "outputs": [],
   "source": [
    "# NOTE: This is ONLY necessary in jupyter notebook.\n",
    "# Details: Jupyter runs an event-loop behind the scenes.\n",
    "#          This results in nested event-loops when we start an event-loop to make async queries.\n",
    "#          This is normally not allowed, we use nest_asyncio to allow it for convenience.\n",
    "import nest_asyncio\n",
    "\n",
    "nest_asyncio.apply()\n",
    "\n",
    "import logging\n",
    "import sys\n",
    "\n",
    "logging.basicConfig(stream=sys.stdout, level=logging.INFO)\n",
    "logging.getLogger().addHandler(logging.StreamHandler(stream=sys.stdout))"
   ]
  },
  {
   "cell_type": "code",
   "execution_count": 2,
   "metadata": {},
   "outputs": [],
   "source": [
    "import openai\n",
    "import os\n",
    "import config\n",
    "\n",
    "#OpenAI API Key Authentication (The OpenAI API Key will be stored in the config.py file)\n",
    "openai.api_key = config.openai_key"
   ]
  },
  {
   "cell_type": "code",
   "execution_count": 28,
   "metadata": {},
   "outputs": [],
   "source": [
    "import pandas as pd"
   ]
  },
  {
   "cell_type": "code",
   "execution_count": 29,
   "metadata": {},
   "outputs": [],
   "source": [
    "from llama_index import (\n",
    "    VectorStoreIndex,\n",
    "    SimpleDirectoryReader,\n",
    "    ServiceContext,\n",
    "    StorageContext,\n",
    "    SQLDatabase,\n",
    "    WikipediaReader,\n",
    ")"
   ]
  },
  {
   "cell_type": "code",
   "execution_count": 30,
   "metadata": {},
   "outputs": [],
   "source": [
    "# Create Common Objects\n",
    "\n",
    "from llama_index.node_parser.simple import SimpleNodeParser\n",
    "from llama_index import ServiceContext, LLMPredictor\n",
    "from llama_index.storage import StorageContext\n",
    "from llama_index.llms import OpenAI\n",
    "\n",
    "# define node parser and LLM\n",
    "chunk_size = 1024\n",
    "llm = OpenAI(temperature=0, model=\"gpt-3.5-turbo\", streaming=True)\n",
    "service_context = ServiceContext.from_defaults(chunk_size=chunk_size, llm=llm)\n",
    "# text_splitter = TokenTextSplitter(chunk_size=chunk_size)\n",
    "node_parser = SimpleNodeParser.from_defaults(chunk_size=chunk_size)\n"
   ]
  },
  {
   "cell_type": "markdown",
   "metadata": {},
   "source": [
    "## Read data from CSV file"
   ]
  },
  {
   "cell_type": "code",
   "execution_count": 31,
   "metadata": {},
   "outputs": [
    {
     "data": {
      "text/html": [
       "<div>\n",
       "<style scoped>\n",
       "    .dataframe tbody tr th:only-of-type {\n",
       "        vertical-align: middle;\n",
       "    }\n",
       "\n",
       "    .dataframe tbody tr th {\n",
       "        vertical-align: top;\n",
       "    }\n",
       "\n",
       "    .dataframe thead th {\n",
       "        text-align: right;\n",
       "    }\n",
       "</style>\n",
       "<table border=\"1\" class=\"dataframe\">\n",
       "  <thead>\n",
       "    <tr style=\"text-align: right;\">\n",
       "      <th></th>\n",
       "      <th>ProductID</th>\n",
       "      <th>ProductName</th>\n",
       "      <th>CompanyName</th>\n",
       "      <th>SupplierID</th>\n",
       "      <th>CategoryID</th>\n",
       "      <th>UnitsSold</th>\n",
       "      <th>RevenueInDollars</th>\n",
       "    </tr>\n",
       "  </thead>\n",
       "  <tbody>\n",
       "    <tr>\n",
       "      <th>0</th>\n",
       "      <td>1</td>\n",
       "      <td>Audi R8</td>\n",
       "      <td>Audi</td>\n",
       "      <td>1</td>\n",
       "      <td>1</td>\n",
       "      <td>299</td>\n",
       "      <td>134550000</td>\n",
       "    </tr>\n",
       "    <tr>\n",
       "      <th>1</th>\n",
       "      <td>2</td>\n",
       "      <td>Audi A7</td>\n",
       "      <td>Audi</td>\n",
       "      <td>1</td>\n",
       "      <td>2</td>\n",
       "      <td>4200</td>\n",
       "      <td>33600000</td>\n",
       "    </tr>\n",
       "    <tr>\n",
       "      <th>2</th>\n",
       "      <td>3</td>\n",
       "      <td>Audi A8</td>\n",
       "      <td>Audi</td>\n",
       "      <td>1</td>\n",
       "      <td>2</td>\n",
       "      <td>1593</td>\n",
       "      <td>175230000</td>\n",
       "    </tr>\n",
       "    <tr>\n",
       "      <th>3</th>\n",
       "      <td>4</td>\n",
       "      <td>Mercedes AMG ONE</td>\n",
       "      <td>Mercedes-Benz</td>\n",
       "      <td>2</td>\n",
       "      <td>1</td>\n",
       "      <td>275</td>\n",
       "      <td>748000000</td>\n",
       "    </tr>\n",
       "    <tr>\n",
       "      <th>4</th>\n",
       "      <td>5</td>\n",
       "      <td>Mercedes EQS</td>\n",
       "      <td>Mercedes-Benz</td>\n",
       "      <td>2</td>\n",
       "      <td>2</td>\n",
       "      <td>2403</td>\n",
       "      <td>300375000</td>\n",
       "    </tr>\n",
       "  </tbody>\n",
       "</table>\n",
       "</div>"
      ],
      "text/plain": [
       "   ProductID       ProductName    CompanyName  SupplierID  CategoryID  \\\n",
       "0          1           Audi R8           Audi           1           1   \n",
       "1          2           Audi A7           Audi           1           2   \n",
       "2          3           Audi A8           Audi           1           2   \n",
       "3          4  Mercedes AMG ONE  Mercedes-Benz           2           1   \n",
       "4          5      Mercedes EQS  Mercedes-Benz           2           2   \n",
       "\n",
       "   UnitsSold  RevenueInDollars  \n",
       "0        299         134550000  \n",
       "1       4200          33600000  \n",
       "2       1593         175230000  \n",
       "3        275         748000000  \n",
       "4       2403         300375000  "
      ]
     },
     "execution_count": 31,
     "metadata": {},
     "output_type": "execute_result"
    }
   ],
   "source": [
    "df = pd.read_csv(\"cars_revenue.csv\")\n",
    "df.head()"
   ]
  },
  {
   "cell_type": "code",
   "execution_count": 32,
   "metadata": {},
   "outputs": [
    {
     "data": {
      "text/plain": [
       "ProductID            int64\n",
       "ProductName         object\n",
       "CompanyName         object\n",
       "SupplierID           int64\n",
       "CategoryID           int64\n",
       "UnitsSold            int64\n",
       "RevenueInDollars     int64\n",
       "dtype: object"
      ]
     },
     "execution_count": 32,
     "metadata": {},
     "output_type": "execute_result"
    }
   ],
   "source": [
    "df.dtypes"
   ]
  },
  {
   "cell_type": "markdown",
   "metadata": {},
   "source": [
    "## Create Database Schema"
   ]
  },
  {
   "cell_type": "code",
   "execution_count": 33,
   "metadata": {},
   "outputs": [],
   "source": [
    "from sqlalchemy import (\n",
    "    create_engine,\n",
    "    MetaData,\n",
    "    Table,\n",
    "    Column,\n",
    "    String,\n",
    "    Integer,\n",
    "    select,\n",
    "    column,\n",
    ")"
   ]
  },
  {
   "cell_type": "code",
   "execution_count": 34,
   "metadata": {},
   "outputs": [],
   "source": [
    "\n",
    "# Create an SQLAlchemy engine with an in-memory SQLite database\n",
    "engine = create_engine(\"sqlite:///:memory:\", future=True)\n",
    "\n",
    "# Define a SQLAlchemy MetaData object\n",
    "metadata_obj = MetaData()\n",
    "\n",
    "# Define the columns for the table\n",
    "table = Table(\n",
    "    'products_car',  # Table name\n",
    "    metadata_obj,\n",
    "    Column('ProductID', Integer, primary_key=True),\n",
    "    Column('ProductName', String),\n",
    "    Column('CompanyName', String),\n",
    "    Column('SupplierID', Integer),\n",
    "    Column('CategoryID', Integer),\n",
    "    Column('UnitsSold', Integer),\n",
    "    Column('RevenueInDollars', Integer)\n",
    ")\n",
    "\n",
    "# Create the table in the database\n",
    "metadata_obj.create_all(engine)"
   ]
  },
  {
   "cell_type": "markdown",
   "metadata": {},
   "source": [
    "## Insert Data into Database Schema"
   ]
  },
  {
   "cell_type": "code",
   "execution_count": 35,
   "metadata": {},
   "outputs": [
    {
     "data": {
      "text/plain": [
       "5"
      ]
     },
     "execution_count": 35,
     "metadata": {},
     "output_type": "execute_result"
    }
   ],
   "source": [
    "#Insert data from dataframe into SQL table\n",
    "df.to_sql('products_car', con=engine, if_exists='append', index=False)"
   ]
  },
  {
   "cell_type": "code",
   "execution_count": 36,
   "metadata": {},
   "outputs": [
    {
     "name": "stdout",
     "output_type": "stream",
     "text": [
      "[(1, 'Audi R8', 'Audi', 1, 1, 299, 134550000), (2, 'Audi A7', 'Audi', 1, 2, 4200, 33600000), (3, 'Audi A8', 'Audi', 1, 2, 1593, 175230000), (4, 'Mercedes AMG ONE', 'Mercedes-Benz', 2, 1, 275, 748000000), (5, 'Mercedes EQS', 'Mercedes-Benz', 2, 2, 2403, 300375000)]\n"
     ]
    }
   ],
   "source": [
    "# Checking whether the data is present\n",
    "with engine.connect() as connection:\n",
    "    cursor = connection.exec_driver_sql(\"SELECT * FROM products_car\")\n",
    "    print(cursor.fetchall())"
   ]
  },
  {
   "cell_type": "code",
   "execution_count": 37,
   "metadata": {},
   "outputs": [
    {
     "data": {
      "text/plain": [
       "dict_keys(['products_car'])"
      ]
     },
     "execution_count": 37,
     "metadata": {},
     "output_type": "execute_result"
    }
   ],
   "source": [
    "# print tables\n",
    "metadata_obj.tables.keys()"
   ]
  },
  {
   "cell_type": "markdown",
   "metadata": {},
   "source": [
    "## Load data from Wikipedia"
   ]
  },
  {
   "cell_type": "code",
   "execution_count": 38,
   "metadata": {},
   "outputs": [],
   "source": [
    "# Load Text Data\n",
    "car_companies = [\"Audi Company\",\"Mercedes-Benz\"]\n",
    "wiki_docs = WikipediaReader().load_data(pages=car_companies)"
   ]
  },
  {
   "cell_type": "markdown",
   "metadata": {},
   "source": [
    "## Build SQL Index"
   ]
  },
  {
   "cell_type": "code",
   "execution_count": 39,
   "metadata": {},
   "outputs": [],
   "source": [
    "sql_database = SQLDatabase(engine, include_tables=[\"products_car\"])\n"
   ]
  },
  {
   "cell_type": "markdown",
   "metadata": {},
   "source": [
    "## Build Vector Index"
   ]
  },
  {
   "cell_type": "code",
   "execution_count": 40,
   "metadata": {},
   "outputs": [],
   "source": [
    "# Insert documents into vector index\n",
    "# Each document has metadata of the city attached\n",
    "\n",
    "vector_indices = {}\n",
    "vector_query_engines = {}\n",
    "\n",
    "for car_company, wiki_doc in zip(car_companies, wiki_docs):\n",
    "    vector_index = VectorStoreIndex.from_documents([wiki_doc])\n",
    "    query_engine = vector_index.as_query_engine(similarity_top_k=2)\n",
    "    vector_indices[car_company] = vector_index\n",
    "    vector_query_engines[car_company] = query_engine"
   ]
  },
  {
   "cell_type": "markdown",
   "metadata": {},
   "source": [
    "## Define Query Engines and Set them as Tools"
   ]
  },
  {
   "cell_type": "code",
   "execution_count": 41,
   "metadata": {},
   "outputs": [],
   "source": [
    "from llama_index.tools import ToolMetadata\n",
    "from llama_index.indices.struct_store.sql_query import NLSQLTableQueryEngine"
   ]
  },
  {
   "cell_type": "code",
   "execution_count": 42,
   "metadata": {},
   "outputs": [],
   "source": [
    "#Define SQL Query Engine\n",
    "sql_query_engine = NLSQLTableQueryEngine(\n",
    "    sql_database=sql_database,\n",
    "    tables=[\"products_car\"],\n",
    ")"
   ]
  },
  {
   "cell_type": "code",
   "execution_count": 43,
   "metadata": {},
   "outputs": [],
   "source": [
    "#Define Vector Query Engines\n",
    "from llama_index.tools.query_engine import QueryEngineTool\n",
    "from llama_index.query_engine import SubQuestionQueryEngine\n",
    "\n",
    "query_engine_tools = []\n",
    "for car_company in car_companies:\n",
    "    query_engine = vector_query_engines[car_company]\n",
    "\n",
    "    query_engine_tool = QueryEngineTool(\n",
    "        query_engine=query_engine,\n",
    "        metadata=ToolMetadata(\n",
    "            name=car_company, description=f\"Provides information about {car_company}\"\n",
    "        ),\n",
    "    )\n",
    "    query_engine_tools.append(query_engine_tool)\n",
    "\n",
    "\n",
    "#Define Subquestion Query Engine\n",
    "s_engine = SubQuestionQueryEngine.from_defaults(query_engine_tools=query_engine_tools)\n"
   ]
  },
  {
   "cell_type": "code",
   "execution_count": 44,
   "metadata": {},
   "outputs": [],
   "source": [
    "#Define Query Engine Tools\n",
    "sql_tool = QueryEngineTool.from_defaults(\n",
    "    query_engine=sql_query_engine,\n",
    "    description=(\n",
    "        \"Useful for translating a natural language query into a SQL query over a table containing: \"\n",
    "        \"products_car, containing the units sold and revenue of each car\"\n",
    "    ),\n",
    ")\n",
    "s_engine_tool = QueryEngineTool.from_defaults(\n",
    "    query_engine=s_engine,\n",
    "    description=f\"Useful for answering semantic questions about different car companies\",\n",
    ")"
   ]
  },
  {
   "cell_type": "markdown",
   "metadata": {},
   "source": [
    "## Define Router Query Engine"
   ]
  },
  {
   "cell_type": "code",
   "execution_count": 51,
   "metadata": {},
   "outputs": [],
   "source": [
    "# Define Router Query Engine\n",
    "from llama_index.query_engine.router_query_engine import RouterQueryEngine\n",
    "from llama_index.selectors.llm_selectors import LLMSingleSelector\n",
    "from llama_index.selectors.pydantic_selectors import (\n",
    "    PydanticMultiSelector,\n",
    "    PydanticSingleSelector,\n",
    ")\n",
    "\n",
    "query_engine = RouterQueryEngine(\n",
    "    selector=PydanticMultiSelector.from_defaults(),\n",
    "    query_engine_tools=([sql_tool] + [s_engine_tool]), service_context=service_context)"
   ]
  },
  {
   "cell_type": "markdown",
   "metadata": {},
   "source": [
    "## Querying"
   ]
  },
  {
   "cell_type": "code",
   "execution_count": 60,
   "metadata": {},
   "outputs": [
    {
     "name": "stdout",
     "output_type": "stream",
     "text": [
      "INFO:llama_index.query_engine.router_query_engine:Selecting query engine 0: The first choice mentions translating a natural language query into a SQL query, which could be useful for retrieving information about specific car models like Mercedes AMG ONE..\n",
      "Selecting query engine 0: The first choice mentions translating a natural language query into a SQL query, which could be useful for retrieving information about specific car models like Mercedes AMG ONE..\n",
      "Selecting query engine 0: The first choice mentions translating a natural language query into a SQL query, which could be useful for retrieving information about specific car models like Mercedes AMG ONE..\n",
      "INFO:llama_index.indices.struct_store.sql_query:> Table desc str: Table 'products_car' has columns: ProductID (INTEGER), ProductName (VARCHAR), CompanyName (VARCHAR), SupplierID (INTEGER), CategoryID (INTEGER), UnitsSold (INTEGER), RevenueInDollars (INTEGER) and foreign keys: .\n",
      "> Table desc str: Table 'products_car' has columns: ProductID (INTEGER), ProductName (VARCHAR), CompanyName (VARCHAR), SupplierID (INTEGER), CategoryID (INTEGER), UnitsSold (INTEGER), RevenueInDollars (INTEGER) and foreign keys: .\n",
      "> Table desc str: Table 'products_car' has columns: ProductID (INTEGER), ProductName (VARCHAR), CompanyName (VARCHAR), SupplierID (INTEGER), CategoryID (INTEGER), UnitsSold (INTEGER), RevenueInDollars (INTEGER) and foreign keys: .\n"
     ]
    }
   ],
   "source": [
    "response = query_engine.query(\n",
    "    \"What is the total Units Sold by Mercedes AMG ONE?\"\n",
    ")"
   ]
  },
  {
   "cell_type": "code",
   "execution_count": 61,
   "metadata": {},
   "outputs": [
    {
     "name": "stdout",
     "output_type": "stream",
     "text": [
      " The total number of Mercedes AMG ONE units sold is 275.\n"
     ]
    }
   ],
   "source": [
    "print(str(response))\n"
   ]
  },
  {
   "cell_type": "code",
   "execution_count": 64,
   "metadata": {},
   "outputs": [
    {
     "name": "stdout",
     "output_type": "stream",
     "text": [
      "INFO:llama_index.query_engine.router_query_engine:Selecting query engine 0: Can provide information about the revenue and units sold of Audi and Mercedes-Benz cars.\n",
      "Selecting query engine 0: Can provide information about the revenue and units sold of Audi and Mercedes-Benz cars.\n",
      "Selecting query engine 0: Can provide information about the revenue and units sold of Audi and Mercedes-Benz cars.\n",
      "INFO:llama_index.indices.struct_store.sql_query:> Table desc str: Table 'products_car' has columns: ProductID (INTEGER), ProductName (VARCHAR), CompanyName (VARCHAR), SupplierID (INTEGER), CategoryID (INTEGER), UnitsSold (INTEGER), RevenueInDollars (INTEGER) and foreign keys: .\n",
      "> Table desc str: Table 'products_car' has columns: ProductID (INTEGER), ProductName (VARCHAR), CompanyName (VARCHAR), SupplierID (INTEGER), CategoryID (INTEGER), UnitsSold (INTEGER), RevenueInDollars (INTEGER) and foreign keys: .\n",
      "> Table desc str: Table 'products_car' has columns: ProductID (INTEGER), ProductName (VARCHAR), CompanyName (VARCHAR), SupplierID (INTEGER), CategoryID (INTEGER), UnitsSold (INTEGER), RevenueInDollars (INTEGER) and foreign keys: .\n",
      "INFO:llama_index.query_engine.router_query_engine:Selecting query engine 1: Can provide information about different car companies, including Audi and Mercedes-Benz.\n",
      "Selecting query engine 1: Can provide information about different car companies, including Audi and Mercedes-Benz.\n",
      "Selecting query engine 1: Can provide information about different car companies, including Audi and Mercedes-Benz.\n",
      "Generated 2 sub questions.\n",
      "\u001b[36;1m\u001b[1;3m[Audi Company] Q: What is the history of Audi Company\n",
      "\u001b[0m\u001b[33;1m\u001b[1;3m[Mercedes-Benz] Q: What is the history of Mercedes-Benz\n",
      "\u001b[0mINFO:openai:message='OpenAI API response' path=https://api.openai.com/v1/completions processing_ms=5253 request_id=16a8e9892e810836587321db9da3f127 response_code=200\n",
      "message='OpenAI API response' path=https://api.openai.com/v1/completions processing_ms=5253 request_id=16a8e9892e810836587321db9da3f127 response_code=200\n",
      "message='OpenAI API response' path=https://api.openai.com/v1/completions processing_ms=5253 request_id=16a8e9892e810836587321db9da3f127 response_code=200\n",
      "\u001b[36;1m\u001b[1;3m[Audi Company] A: \n",
      "Audi AG is a German automotive manufacturer of luxury vehicles headquartered in Ingolstadt, Bavaria, Germany. The company was founded in 1899 by August Horch, and its name is based on the Latin translation of his surname. In 1932, Auto Union was formed from the merger of four companies, including Horch's company, and the modern Audi era began in the 1960s when Volkswagen acquired Auto Union. Audi has since become one of the best-selling luxury automobile brands in the world.\n",
      "\n",
      "Audi has competed in various forms of motorsports, beginning with Auto Union in the 1930s. In the 1980s, Audi released the Quattro, a four-wheel drive turbocharged car that went on to win rallies and races worldwide. Audi has also competed in the World Rally Championship, the Pikes Peak International Hill Climb, and other motorsports events. In December 2018, Audi announced an investment of 14 billion Euro in e-mobility and self-driving cars.\n",
      "\u001b[0mINFO:openai:message='OpenAI API response' path=https://api.openai.com/v1/completions processing_ms=15075 request_id=4a0cfbaf4962e46e8f51b68fc7cc3598 response_code=200\n",
      "message='OpenAI API response' path=https://api.openai.com/v1/completions processing_ms=15075 request_id=4a0cfbaf4962e46e8f51b68fc7cc3598 response_code=200\n",
      "message='OpenAI API response' path=https://api.openai.com/v1/completions processing_ms=15075 request_id=4a0cfbaf4962e46e8f51b68fc7cc3598 response_code=200\n",
      "\u001b[33;1m\u001b[1;3m[Mercedes-Benz] A: \n",
      "Mercedes-Benz traces its origins to Karl Benz's first internal combustion engine in a car, seen in the Benz Patent Motorwagen – financed by Bertha Benz's dowry and patented in January 1886 – and Gottlieb Daimler and their engineer Wilhelm Maybach's conversion of a stagecoach, with the addition of a petrol engine, introduced later that year. The Mercedes automobile was first marketed in 1901 by Daimler Motoren Gesellschaft (DMG). Emil Jellinek-Mercedes, a Jewish-Austrian automobile entrepreneur who worked with DMG, registered the trademark in 1902, naming the 1901 Mercedes 35 hp after his daughter Mercedes Jellinek. Jellinek was a businessman and marketing strategist who promoted \"horseless\" Daimler automobiles among the highest circles of society. At the Nice race he attended in 1899, Jellinek drove under the pseudonym \"Monsieur Mercédès\". Many consider that race the birth of Mercedes-Benz as a brand. In 1901, the name \"Mercedes\" was re-registered by DMG worldwide as a protected trademark. The first Mercedes-Benz branded vehicles were produced in 1926, following the merger of Karl Benz and Gottlieb Daimler's companies into the Daimler-Benz company on 28 June of the same year. Throughout the 1930s, Mercedes-Benz produced the 770 model, a car that was notably popular throughout Germany's Nazi period. Adolf Hitler was known to have driven in a model of this car during his time in power, with modified custom bulletproof windshields. Most of the currently surviving 770 models were sold at auctions to private buyers. One of the cars is currently on display at the War Museum in Ottawa, Ontario. The pontiff's Popemobile has often been sourced from Mercedes-Benz. From 1937 onward, Daimler Benz focused increasingly on military products such as the LG3000 lorry and the DB600 and the DB601 aero engines. To build the latter, in 1936, it built a factory hidden in the forest at Genshagen around 10 km south of Berlin. In 1958, the two companies began a partnership to sell their cars in the United States with Studebaker. A few American-based Daimler Benz dealerships were converted into Mercedes-Benz dealerships when Daimler's non-Mercedes-partnered company closed in 1966. In November 2019, Daimler AG announced that Mercedes-Benz, until that point a company marque, would be spun off into a separate, wholly owned subsidiary called Mercedes-Benz AG. The new subsidiary would manage the Mercedes-Benz car and van business. Mercedes-Benz-badged trucks and buses would be part of the Daimler Truck AG subsidiary. In May 2022, Mercedes-Benz announced that it has recently sold the most expensive car at the price of $142 million (€135 million). The car is a very rare 1955 Mercedes-Benz SLR that has been kept in the German automaker's collection and bought by a private owner. Mercedes in an announcement said that the sale will be used to establish the Mercedes-Benz Fund. In June 2022, Mercedes-Benz recalled almost one million vehicles built between 2004 and 2015, due to potential problems with their braking system, caused by possible \"advanced corrosion\".\n",
      "\u001b[0mINFO:llama_index.query_engine.router_query_engine:Combining responses from multiple query engines.\n",
      "Combining responses from multiple query engines.\n",
      "Combining responses from multiple query engines.\n"
     ]
    }
   ],
   "source": [
    "response = query_engine.query(\n",
    "    \"Give a brief history about Audi and Mercedes-Benz\"\n",
    ")"
   ]
  },
  {
   "cell_type": "code",
   "execution_count": 65,
   "metadata": {},
   "outputs": [
    {
     "name": "stdout",
     "output_type": "stream",
     "text": [
      "Audi and Mercedes-Benz are two well-established car manufacturers with a rich history. Audi was founded in 1909 in Germany by August Horch. In 1932, it merged with three other companies to form Auto Union, and in the 1960s, Volkswagen acquired Auto Union, marking the beginning of the modern Audi era. Since then, Audi has become a global leader in luxury vehicles and has been known for its popular models like the Audi A8 and Audi R8. In recent years, Audi has also made significant investments in e-mobility and self-driving cars.\n",
      "\n",
      "On the other hand, Mercedes-Benz has its origins in Karl Benz's invention of the first internal combustion engine in a car in 1886. The Benz Patent Motorwagen, financed by Bertha Benz's dowry, was the first automobile marketed by Daimler Motoren Gesellschaft (DMG) in 1901. In 1926, Karl Benz's company merged with Gottlieb Daimler's company to form Daimler-Benz, and the first Mercedes-Benz branded vehicles were produced. Mercedes-Benz gained popularity with its 770 model in the 1930s, which was notably favored during Germany's Nazi period. In recent years, Mercedes-Benz has made headlines for selling the most expensive car in history and for recalling almost one million vehicles due to potential braking system issues.\n",
      "\n",
      "Overall, both Audi and Mercedes-Benz have a long-standing reputation for producing luxury vehicles and have played significant roles in the automotive industry.\n"
     ]
    }
   ],
   "source": [
    "print(str(response))\n"
   ]
  },
  {
   "cell_type": "code",
   "execution_count": 82,
   "metadata": {},
   "outputs": [
    {
     "name": "stdout",
     "output_type": "stream",
     "text": [
      "INFO:llama_index.query_engine.router_query_engine:Selecting query engine 0: The first choice is relevant because it mentions translating a natural language query into a SQL query, which could be used to retrieve the revenue of Audi R8 from the products_car table..\n",
      "Selecting query engine 0: The first choice is relevant because it mentions translating a natural language query into a SQL query, which could be used to retrieve the revenue of Audi R8 from the products_car table..\n",
      "Selecting query engine 0: The first choice is relevant because it mentions translating a natural language query into a SQL query, which could be used to retrieve the revenue of Audi R8 from the products_car table..\n",
      "INFO:llama_index.indices.struct_store.sql_query:> Table desc str: Table 'products_car' has columns: ProductID (INTEGER), ProductName (VARCHAR), CompanyName (VARCHAR), SupplierID (INTEGER), CategoryID (INTEGER), UnitsSold (INTEGER), RevenueInDollars (INTEGER) and foreign keys: .\n",
      "> Table desc str: Table 'products_car' has columns: ProductID (INTEGER), ProductName (VARCHAR), CompanyName (VARCHAR), SupplierID (INTEGER), CategoryID (INTEGER), UnitsSold (INTEGER), RevenueInDollars (INTEGER) and foreign keys: .\n",
      "> Table desc str: Table 'products_car' has columns: ProductID (INTEGER), ProductName (VARCHAR), CompanyName (VARCHAR), SupplierID (INTEGER), CategoryID (INTEGER), UnitsSold (INTEGER), RevenueInDollars (INTEGER) and foreign keys: .\n",
      "INFO:llama_index.query_engine.router_query_engine:Selecting query engine 1: The second choice is not relevant to the question as it does not mention revenue or technology..\n",
      "Selecting query engine 1: The second choice is not relevant to the question as it does not mention revenue or technology..\n",
      "Selecting query engine 1: The second choice is not relevant to the question as it does not mention revenue or technology..\n",
      "Generated 2 sub questions.\n",
      "\u001b[36;1m\u001b[1;3m[Audi Company] Q: What is the revenue of Audi R8\n",
      "\u001b[0m\u001b[33;1m\u001b[1;3m[Audi Company] Q: What technology is Audi famous for\n",
      "\u001b[0mINFO:openai:message='OpenAI API response' path=https://api.openai.com/v1/completions processing_ms=825 request_id=319ae0f7d1ac5b3119cb130f8eb4fe78 response_code=200\n",
      "message='OpenAI API response' path=https://api.openai.com/v1/completions processing_ms=825 request_id=319ae0f7d1ac5b3119cb130f8eb4fe78 response_code=200\n",
      "message='OpenAI API response' path=https://api.openai.com/v1/completions processing_ms=825 request_id=319ae0f7d1ac5b3119cb130f8eb4fe78 response_code=200\n",
      "\u001b[36;1m\u001b[1;3m[Audi Company] A: \n",
      "It is not possible to answer this question without prior knowledge of Audi's revenue from the R8 model.\n",
      "\u001b[0mINFO:openai:message='OpenAI API response' path=https://api.openai.com/v1/completions processing_ms=1006 request_id=6737634e0e629573fa887d3f7bb09892 response_code=200\n",
      "message='OpenAI API response' path=https://api.openai.com/v1/completions processing_ms=1006 request_id=6737634e0e629573fa887d3f7bb09892 response_code=200\n",
      "message='OpenAI API response' path=https://api.openai.com/v1/completions processing_ms=1006 request_id=6737634e0e629573fa887d3f7bb09892 response_code=200\n",
      "\u001b[33;1m\u001b[1;3m[Audi Company] A: \n",
      "Audi is famous for its advanced driver assist features, galvanized cars, aluminium space frame technology, S and RS models, electric vehicles, self-driving cars, and motorsport.\n",
      "\u001b[0mINFO:llama_index.query_engine.router_query_engine:Combining responses from multiple query engines.\n",
      "Combining responses from multiple query engines.\n",
      "Combining responses from multiple query engines.\n"
     ]
    }
   ],
   "source": [
    "response = query_engine.query(\n",
    "    \"What is the revenue of Audi R8 and what technology is Audi famous for?\"\n",
    ")"
   ]
  },
  {
   "cell_type": "code",
   "execution_count": 83,
   "metadata": {},
   "outputs": [
    {
     "name": "stdout",
     "output_type": "stream",
     "text": [
      "The revenue of Audi R8 is $134,550,000. Audi is famous for its advanced technology, such as its Quattro all-wheel drive system, its turbocharged engines, and its advanced safety features.\n"
     ]
    }
   ],
   "source": [
    "print(str(response))\n"
   ]
  },
  {
   "cell_type": "code",
   "execution_count": 87,
   "metadata": {},
   "outputs": [
    {
     "name": "stdout",
     "output_type": "stream",
     "text": [
      "INFO:llama_index.query_engine.router_query_engine:Selecting query engine 0: The first choice is relevant because it mentions translating a natural language query into a SQL query, which could be used to compare the revenue of different cars..\n",
      "Selecting query engine 0: The first choice is relevant because it mentions translating a natural language query into a SQL query, which could be used to compare the revenue of different cars..\n",
      "Selecting query engine 0: The first choice is relevant because it mentions translating a natural language query into a SQL query, which could be used to compare the revenue of different cars..\n",
      "INFO:llama_index.indices.struct_store.sql_query:> Table desc str: Table 'products_car' has columns: ProductID (INTEGER), ProductName (VARCHAR), CompanyName (VARCHAR), SupplierID (INTEGER), CategoryID (INTEGER), UnitsSold (INTEGER), RevenueInDollars (INTEGER) and foreign keys: .\n",
      "> Table desc str: Table 'products_car' has columns: ProductID (INTEGER), ProductName (VARCHAR), CompanyName (VARCHAR), SupplierID (INTEGER), CategoryID (INTEGER), UnitsSold (INTEGER), RevenueInDollars (INTEGER) and foreign keys: .\n",
      "> Table desc str: Table 'products_car' has columns: ProductID (INTEGER), ProductName (VARCHAR), CompanyName (VARCHAR), SupplierID (INTEGER), CategoryID (INTEGER), UnitsSold (INTEGER), RevenueInDollars (INTEGER) and foreign keys: .\n"
     ]
    }
   ],
   "source": [
    "response = query_engine.query(\n",
    "    \"Compare the revenue of Audi R8 and Mercedes AMG ONE\"\n",
    ")"
   ]
  },
  {
   "cell_type": "code",
   "execution_count": 88,
   "metadata": {},
   "outputs": [
    {
     "name": "stdout",
     "output_type": "stream",
     "text": [
      " The Mercedes AMG ONE has a significantly higher revenue than the Audi R8, with the AMG ONE bringing in $748 million compared to the R8's $134.5 million.\n"
     ]
    }
   ],
   "source": [
    "print(str(response))"
   ]
  },
  {
   "cell_type": "code",
   "execution_count": null,
   "metadata": {},
   "outputs": [],
   "source": []
  }
 ],
 "metadata": {
  "kernelspec": {
   "display_name": "Python 3",
   "language": "python",
   "name": "python3"
  },
  "language_info": {
   "codemirror_mode": {
    "name": "ipython",
    "version": 3
   },
   "file_extension": ".py",
   "mimetype": "text/x-python",
   "name": "python",
   "nbconvert_exporter": "python",
   "pygments_lexer": "ipython3",
   "version": "3.11.4"
  },
  "orig_nbformat": 4
 },
 "nbformat": 4,
 "nbformat_minor": 2
}
